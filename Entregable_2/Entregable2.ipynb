{
 "cells": [
  {
   "attachments": {},
   "cell_type": "markdown",
   "id": "e63cf067-786b-4628-a894-2bea05ba45e2",
   "metadata": {},
   "source": [
    "## CoderHouse - Data Engineering - Kevin Schiebelbein - Entregable 2"
   ]
  },
  {
   "attachments": {},
   "cell_type": "markdown",
   "id": "5420bf36",
   "metadata": {},
   "source": [
    "> Antes de ejecutar el codigo se necesita instalar las dependencias con ` pip3 install -r requeriments.txt ` en la carpeta raiz del Notebook"
   ]
  },
  {
   "attachments": {},
   "cell_type": "markdown",
   "id": "4152c12d",
   "metadata": {},
   "source": [
    "Se importan las librearias necesarias"
   ]
  },
  {
   "cell_type": "code",
   "execution_count": null,
   "id": "10575746-fe8c-4059-bef4-8a74543cd4f2",
   "metadata": {},
   "outputs": [],
   "source": [
    "from utils import getFakeData\n",
    "from dotenv import dotenv_values\n",
    "import redshift_connector\n",
    "import json\n",
    "import pandas as pd\n",
    "#from sqlalchemy import create_engine\n",
    "\n",
    "pd.set_option('display.max_columns', None)"
   ]
  },
  {
   "attachments": {},
   "cell_type": "markdown",
   "id": "14d405ff",
   "metadata": {},
   "source": [
    "Se define la configuracion para la consulta al Data Warehouse"
   ]
  },
  {
   "cell_type": "code",
   "execution_count": null,
   "id": "d4a9115b",
   "metadata": {},
   "outputs": [],
   "source": [
    "config = dotenv_values(\".env\")\n",
    "driver = config[\"DRIVER\"]\n",
    "host = config[\"HOST\"]\n",
    "db = config[\"DB\"]\n",
    "user = config[\"USER\"]\n",
    "password = config[\"PASSDW\"]"
   ]
  },
  {
   "attachments": {},
   "cell_type": "markdown",
   "id": "4a341d80",
   "metadata": {},
   "source": [
    "Se extraen los datos de la API publica y se organizan los datos para la insercion"
   ]
  },
  {
   "cell_type": "code",
   "execution_count": null,
   "id": "b80020a0",
   "metadata": {},
   "outputs": [],
   "source": [
    "try:\n",
    "  api = \"https://fakestoreapi.com/products\"\n",
    "  result = getFakeData(api)\n",
    "  products = json.loads(result.text)\n",
    "  print(products)\n",
    "  #values = [tuple((p[\"id\"], p[\"title\"], p[\"price\"], p[\"category\"], p[\"image\"], p[\"rating\"][\"rate\"])) for p in products]\n",
    "  df = pd.DataFrame(products)\n",
    "except Exception as e:\n",
    "  print(e)\n"
   ]
  },
  {
   "attachments": {},
   "cell_type": "markdown",
   "id": "bc7a5363",
   "metadata": {},
   "source": [
    "ETL - Asigno columna rate y count por separado de rating"
   ]
  },
  {
   "cell_type": "code",
   "execution_count": null,
   "id": "98d9c293",
   "metadata": {},
   "outputs": [],
   "source": [
    "df = pd.concat([df.drop(['rating'], axis=1), df['rating'].apply(pd.Series)], axis=1)"
   ]
  },
  {
   "attachments": {},
   "cell_type": "markdown",
   "id": "562d40c4",
   "metadata": {},
   "source": [
    "ETL - Verifico si el producto esta en oferta y lo agrego al dataframe"
   ]
  },
  {
   "cell_type": "code",
   "execution_count": null,
   "id": "71247996",
   "metadata": {},
   "outputs": [],
   "source": [
    "df['status'] = ['On Sale' if x < 50 else '' for x in df['price']]\n",
    "df.head()"
   ]
  },
  {
   "attachments": {},
   "cell_type": "markdown",
   "id": "7be5b4d5",
   "metadata": {},
   "source": [
    "ETL - Cantidad de productos por categoria"
   ]
  },
  {
   "cell_type": "code",
   "execution_count": null,
   "id": "9f67189a",
   "metadata": {},
   "outputs": [],
   "source": [
    "categories = df.groupby([\"category\"]).count()\n",
    "categories"
   ]
  },
  {
   "attachments": {},
   "cell_type": "markdown",
   "id": "92b9ac56",
   "metadata": {},
   "source": [
    "ETL - Top 10 productos"
   ]
  },
  {
   "cell_type": "code",
   "execution_count": null,
   "id": "e27ce023",
   "metadata": {},
   "outputs": [],
   "source": [
    "top_10_products = df.sort_values(\"rate\", ascending=False).head(10)\n",
    "top_10_products"
   ]
  },
  {
   "attachments": {},
   "cell_type": "markdown",
   "id": "286b64ae",
   "metadata": {},
   "source": [
    "Se insertan los datos en el destino"
   ]
  },
  {
   "cell_type": "code",
   "execution_count": null,
   "id": "9136ac87",
   "metadata": {},
   "outputs": [],
   "source": [
    "# Connects to Redshift cluster using AWS credentials\n",
    "with redshift_connector.connect(host=host,database=db,user=user,password=password) as conn:\n",
    "  with conn.cursor() as cursor:\n",
    "    conn.autocommit = True\n",
    "    cursor: redshift_connector.Cursor = conn.cursor()\n",
    "    tabla = f\"\"\"\n",
    "      CREATE TABLE IF NOT EXISTS public.products (\n",
    "      id INTEGER,\n",
    "      title VARCHAR(128),\n",
    "      price FLOAT8,\n",
    "      category VARCHAR(256),\n",
    "      image TEXT,\n",
    "      rate FLOAT8\n",
    "      ) DISTKEY(id) SORTKEY(rate);\n",
    "    \"\"\"\n",
    "    cursor.execute(tabla)\n",
    "    try:\n",
    "      cursor.executemany(\"insert into products (id, title, price, category, image, rate) values (%s, %s, %s, %s, %s, %s)\", values)\n",
    "    except Exception as e:\n",
    "      print(f\"Error al guardar los datos: {e}\")\n",
    "    cursor.close()\n",
    "  conn.close()"
   ]
  }
 ],
 "metadata": {
  "kernelspec": {
   "display_name": "Python 3 (ipykernel)",
   "language": "python",
   "name": "python3"
  },
  "language_info": {
   "codemirror_mode": {
    "name": "ipython",
    "version": 3
   },
   "file_extension": ".py",
   "mimetype": "text/x-python",
   "name": "python",
   "nbconvert_exporter": "python",
   "pygments_lexer": "ipython3",
   "version": "3.10.6"
  }
 },
 "nbformat": 4,
 "nbformat_minor": 5
}
