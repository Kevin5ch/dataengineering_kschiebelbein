{
 "cells": [
  {
   "attachments": {},
   "cell_type": "markdown",
   "id": "e63cf067-786b-4628-a894-2bea05ba45e2",
   "metadata": {},
   "source": [
    "## CoderHouse - Data Engineering - Kevin Schiebelbein - Entregable 2"
   ]
  },
  {
   "attachments": {},
   "cell_type": "markdown",
   "id": "5420bf36",
   "metadata": {},
   "source": [
    "> Antes de ejecutar el codigo se necesita instalar las dependencias con ` pip3 install -r requeriments.txt ` en la carpeta raiz del Notebook"
   ]
  },
  {
   "attachments": {},
   "cell_type": "markdown",
   "id": "4152c12d",
   "metadata": {},
   "source": [
    "Se importan las librearias necesarias"
   ]
  },
  {
   "cell_type": "code",
   "execution_count": 2,
   "id": "10575746-fe8c-4059-bef4-8a74543cd4f2",
   "metadata": {},
   "outputs": [],
   "source": [
    "from utils import getFakeData\n",
    "from dotenv import dotenv_values\n",
    "import redshift_connector\n",
    "import json\n",
    "import pandas as pd\n",
    "from datetime import date, timedelta\n",
    "from sqlalchemy import create_engine\n",
    "\n",
    "pd.set_option('display.max_columns', None)"
   ]
  },
  {
   "attachments": {},
   "cell_type": "markdown",
   "id": "14d405ff",
   "metadata": {},
   "source": [
    "Se define la configuracion para la consulta al Data Warehouse"
   ]
  },
  {
   "cell_type": "code",
   "execution_count": null,
   "id": "d4a9115b",
   "metadata": {},
   "outputs": [],
   "source": [
    "config = dotenv_values(\".env\")\n",
    "driver = config[\"DRIVER\"]\n",
    "host = config[\"HOST\"]\n",
    "db = config[\"DB\"]\n",
    "user = config[\"USER\"]\n",
    "password = config[\"PASSDW\"]\n",
    "port = config[\"PORT\"]"
   ]
  },
  {
   "attachments": {},
   "cell_type": "markdown",
   "id": "4a341d80",
   "metadata": {},
   "source": [
    "Se extraen los datos de la API publica y se organizan los datos para la insercion"
   ]
  },
  {
   "cell_type": "code",
   "execution_count": 3,
   "id": "b80020a0",
   "metadata": {},
   "outputs": [
    {
     "name": "stdout",
     "output_type": "stream",
     "text": [
      "[{'id': 1, 'title': 'Fjallraven - Foldsack No. 1 Backpack, Fits 15 Laptops', 'price': 109.95, 'description': 'Your perfect pack for everyday use and walks in the forest. Stash your laptop (up to 15 inches) in the padded sleeve, your everyday', 'category': \"men's clothing\", 'image': 'https://fakestoreapi.com/img/81fPKd-2AYL._AC_SL1500_.jpg', 'rating': {'rate': 3.9, 'count': 120}}, {'id': 2, 'title': 'Mens Casual Premium Slim Fit T-Shirts ', 'price': 22.3, 'description': 'Slim-fitting style, contrast raglan long sleeve, three-button henley placket, light weight & soft fabric for breathable and comfortable wearing. And Solid stitched shirts with round neck made for durability and a great fit for casual fashion wear and diehard baseball fans. The Henley style round neckline includes a three-button placket.', 'category': \"men's clothing\", 'image': 'https://fakestoreapi.com/img/71-3HjGNDUL._AC_SY879._SX._UX._SY._UY_.jpg', 'rating': {'rate': 4.1, 'count': 259}}, {'id': 3, 'title': 'Mens Cotton Jacket', 'price': 55.99, 'description': 'great outerwear jackets for Spring/Autumn/Winter, suitable for many occasions, such as working, hiking, camping, mountain/rock climbing, cycling, traveling or other outdoors. Good gift choice for you or your family member. A warm hearted love to Father, husband or son in this thanksgiving or Christmas Day.', 'category': \"men's clothing\", 'image': 'https://fakestoreapi.com/img/71li-ujtlUL._AC_UX679_.jpg', 'rating': {'rate': 4.7, 'count': 500}}, {'id': 4, 'title': 'Mens Casual Slim Fit', 'price': 15.99, 'description': 'The color could be slightly different between on the screen and in practice. / Please note that body builds vary by person, therefore, detailed size information should be reviewed below on the product description.', 'category': \"men's clothing\", 'image': 'https://fakestoreapi.com/img/71YXzeOuslL._AC_UY879_.jpg', 'rating': {'rate': 2.1, 'count': 430}}, {'id': 5, 'title': \"John Hardy Women's Legends Naga Gold & Silver Dragon Station Chain Bracelet\", 'price': 695, 'description': \"From our Legends Collection, the Naga was inspired by the mythical water dragon that protects the ocean's pearl. Wear facing inward to be bestowed with love and abundance, or outward for protection.\", 'category': 'jewelery', 'image': 'https://fakestoreapi.com/img/71pWzhdJNwL._AC_UL640_QL65_ML3_.jpg', 'rating': {'rate': 4.6, 'count': 400}}, {'id': 6, 'title': 'Solid Gold Petite Micropave ', 'price': 168, 'description': 'Satisfaction Guaranteed. Return or exchange any order within 30 days.Designed and sold by Hafeez Center in the United States. Satisfaction Guaranteed. Return or exchange any order within 30 days.', 'category': 'jewelery', 'image': 'https://fakestoreapi.com/img/61sbMiUnoGL._AC_UL640_QL65_ML3_.jpg', 'rating': {'rate': 3.9, 'count': 70}}, {'id': 7, 'title': 'White Gold Plated Princess', 'price': 9.99, 'description': \"Classic Created Wedding Engagement Solitaire Diamond Promise Ring for Her. Gifts to spoil your love more for Engagement, Wedding, Anniversary, Valentine's Day...\", 'category': 'jewelery', 'image': 'https://fakestoreapi.com/img/71YAIFU48IL._AC_UL640_QL65_ML3_.jpg', 'rating': {'rate': 3, 'count': 400}}, {'id': 8, 'title': 'Pierced Owl Rose Gold Plated Stainless Steel Double', 'price': 10.99, 'description': 'Rose Gold Plated Double Flared Tunnel Plug Earrings. Made of 316L Stainless Steel', 'category': 'jewelery', 'image': 'https://fakestoreapi.com/img/51UDEzMJVpL._AC_UL640_QL65_ML3_.jpg', 'rating': {'rate': 1.9, 'count': 100}}, {'id': 9, 'title': 'WD 2TB Elements Portable External Hard Drive - USB 3.0 ', 'price': 64, 'description': 'USB 3.0 and USB 2.0 Compatibility Fast data transfers Improve PC Performance High Capacity; Compatibility Formatted NTFS for Windows 10, Windows 8.1, Windows 7; Reformatting may be required for other operating systems; Compatibility may vary depending on user’s hardware configuration and operating system', 'category': 'electronics', 'image': 'https://fakestoreapi.com/img/61IBBVJvSDL._AC_SY879_.jpg', 'rating': {'rate': 3.3, 'count': 203}}, {'id': 10, 'title': 'SanDisk SSD PLUS 1TB Internal SSD - SATA III 6 Gb/s', 'price': 109, 'description': 'Easy upgrade for faster boot up, shutdown, application load and response (As compared to 5400 RPM SATA 2.5” hard drive; Based on published specifications and internal benchmarking tests using PCMark vantage scores) Boosts burst write performance, making it ideal for typical PC workloads The perfect balance of performance and reliability Read/write speeds of up to 535MB/s/450MB/s (Based on internal testing; Performance may vary depending upon drive capacity, host device, OS and application.)', 'category': 'electronics', 'image': 'https://fakestoreapi.com/img/61U7T1koQqL._AC_SX679_.jpg', 'rating': {'rate': 2.9, 'count': 470}}, {'id': 11, 'title': 'Silicon Power 256GB SSD 3D NAND A55 SLC Cache Performance Boost SATA III 2.5', 'price': 109, 'description': '3D NAND flash are applied to deliver high transfer speeds Remarkable transfer speeds that enable faster bootup and improved overall system performance. The advanced SLC Cache Technology allows performance boost and longer lifespan 7mm slim design suitable for Ultrabooks and Ultra-slim notebooks. Supports TRIM command, Garbage Collection technology, RAID, and ECC (Error Checking & Correction) to provide the optimized performance and enhanced reliability.', 'category': 'electronics', 'image': 'https://fakestoreapi.com/img/71kWymZ+c+L._AC_SX679_.jpg', 'rating': {'rate': 4.8, 'count': 319}}, {'id': 12, 'title': 'WD 4TB Gaming Drive Works with Playstation 4 Portable External Hard Drive', 'price': 114, 'description': \"Expand your PS4 gaming experience, Play anywhere Fast and easy, setup Sleek design with high capacity, 3-year manufacturer's limited warranty\", 'category': 'electronics', 'image': 'https://fakestoreapi.com/img/61mtL65D4cL._AC_SX679_.jpg', 'rating': {'rate': 4.8, 'count': 400}}, {'id': 13, 'title': 'Acer SB220Q bi 21.5 inches Full HD (1920 x 1080) IPS Ultra-Thin', 'price': 599, 'description': '21. 5 inches Full HD (1920 x 1080) widescreen IPS display And Radeon free Sync technology. No compatibility for VESA Mount Refresh Rate: 75Hz - Using HDMI port Zero-frame design | ultra-thin | 4ms response time | IPS panel Aspect ratio - 16: 9. Color Supported - 16. 7 million colors. Brightness - 250 nit Tilt angle -5 degree to 15 degree. Horizontal viewing angle-178 degree. Vertical viewing angle-178 degree 75 hertz', 'category': 'electronics', 'image': 'https://fakestoreapi.com/img/81QpkIctqPL._AC_SX679_.jpg', 'rating': {'rate': 2.9, 'count': 250}}, {'id': 14, 'title': 'Samsung 49-Inch CHG90 144Hz Curved Gaming Monitor (LC49HG90DMNXZA) – Super Ultrawide Screen QLED ', 'price': 999.99, 'description': '49 INCH SUPER ULTRAWIDE 32:9 CURVED GAMING MONITOR with dual 27 inch screen side by side QUANTUM DOT (QLED) TECHNOLOGY, HDR support and factory calibration provides stunningly realistic and accurate color and contrast 144HZ HIGH REFRESH RATE and 1ms ultra fast response time work to eliminate motion blur, ghosting, and reduce input lag', 'category': 'electronics', 'image': 'https://fakestoreapi.com/img/81Zt42ioCgL._AC_SX679_.jpg', 'rating': {'rate': 2.2, 'count': 140}}, {'id': 15, 'title': \"BIYLACLESEN Women's 3-in-1 Snowboard Jacket Winter Coats\", 'price': 56.99, 'description': 'Note:The Jackets is US standard size, Please choose size as your usual wear Material: 100% Polyester; Detachable Liner Fabric: Warm Fleece. Detachable Functional Liner: Skin Friendly, Lightweigt and Warm.Stand Collar Liner jacket, keep you warm in cold weather. Zippered Pockets: 2 Zippered Hand Pockets, 2 Zippered Pockets on Chest (enough to keep cards or keys)and 1 Hidden Pocket Inside.Zippered Hand Pockets and Hidden Pocket keep your things secure. Humanized Design: Adjustable and Detachable Hood and Adjustable cuff to prevent the wind and water,for a comfortable fit. 3 in 1 Detachable Design provide more convenience, you can separate the coat and inner as needed, or wear it together. It is suitable for different season and help you adapt to different climates', 'category': \"women's clothing\", 'image': 'https://fakestoreapi.com/img/51Y5NI-I5jL._AC_UX679_.jpg', 'rating': {'rate': 2.6, 'count': 235}}, {'id': 16, 'title': \"Lock and Love Women's Removable Hooded Faux Leather Moto Biker Jacket\", 'price': 29.95, 'description': '100% POLYURETHANE(shell) 100% POLYESTER(lining) 75% POLYESTER 25% COTTON (SWEATER), Faux leather material for style and comfort / 2 pockets of front, 2-For-One Hooded denim style faux leather jacket, Button detail on waist / Detail stitching at sides, HAND WASH ONLY / DO NOT BLEACH / LINE DRY / DO NOT IRON', 'category': \"women's clothing\", 'image': 'https://fakestoreapi.com/img/81XH0e8fefL._AC_UY879_.jpg', 'rating': {'rate': 2.9, 'count': 340}}, {'id': 17, 'title': 'Rain Jacket Women Windbreaker Striped Climbing Raincoats', 'price': 39.99, 'description': \"Lightweight perfet for trip or casual wear---Long sleeve with hooded, adjustable drawstring waist design. Button and zipper front closure raincoat, fully stripes Lined and The Raincoat has 2 side pockets are a good size to hold all kinds of things, it covers the hips, and the hood is generous but doesn't overdo it.Attached Cotton Lined Hood with Adjustable Drawstrings give it a real styled look.\", 'category': \"women's clothing\", 'image': 'https://fakestoreapi.com/img/71HblAHs5xL._AC_UY879_-2.jpg', 'rating': {'rate': 3.8, 'count': 679}}, {'id': 18, 'title': \"MBJ Women's Solid Short Sleeve Boat Neck V \", 'price': 9.85, 'description': '95% RAYON 5% SPANDEX, Made in USA or Imported, Do Not Bleach, Lightweight fabric with great stretch for comfort, Ribbed on sleeves and neckline / Double stitching on bottom hem', 'category': \"women's clothing\", 'image': 'https://fakestoreapi.com/img/71z3kpMAYsL._AC_UY879_.jpg', 'rating': {'rate': 4.7, 'count': 130}}, {'id': 19, 'title': \"Opna Women's Short Sleeve Moisture\", 'price': 7.95, 'description': '100% Polyester, Machine wash, 100% cationic polyester interlock, Machine Wash & Pre Shrunk for a Great Fit, Lightweight, roomy and highly breathable with moisture wicking fabric which helps to keep moisture away, Soft Lightweight Fabric with comfortable V-neck collar and a slimmer fit, delivers a sleek, more feminine silhouette and Added Comfort', 'category': \"women's clothing\", 'image': 'https://fakestoreapi.com/img/51eg55uWmdL._AC_UX679_.jpg', 'rating': {'rate': 4.5, 'count': 146}}, {'id': 20, 'title': 'DANVOUY Womens T Shirt Casual Cotton Short', 'price': 12.99, 'description': '95%Cotton,5%Spandex, Features: Casual, Short Sleeve, Letter Print,V-Neck,Fashion Tees, The fabric is soft and has some stretch., Occasion: Casual/Office/Beach/School/Home/Street. Season: Spring,Summer,Autumn,Winter.', 'category': \"women's clothing\", 'image': 'https://fakestoreapi.com/img/61pHAEJ4NML._AC_UX679_.jpg', 'rating': {'rate': 3.6, 'count': 145}}]\n"
     ]
    }
   ],
   "source": [
    "try:\n",
    "  api = \"https://fakestoreapi.com/products\"\n",
    "  result = getFakeData(api)\n",
    "  products = json.loads(result.text)\n",
    "  print(products)\n",
    "  df = pd.DataFrame(products)\n",
    "except Exception as e:\n",
    "  print(e)\n"
   ]
  },
  {
   "cell_type": "code",
   "execution_count": 13,
   "id": "22130551",
   "metadata": {},
   "outputs": [
    {
     "name": "stdout",
     "output_type": "stream",
     "text": [
      "9\n"
     ]
    }
   ],
   "source": [
    "low_price = df[(df[\"price\"] < 50)]\n",
    "print(len(low_price))"
   ]
  },
  {
   "cell_type": "code",
   "execution_count": 20,
   "id": "53b0fcd6",
   "metadata": {},
   "outputs": [
    {
     "data": {
      "text/plain": [
       "id             9\n",
       "title          9\n",
       "price          9\n",
       "description    9\n",
       "category       9\n",
       "image          9\n",
       "rating         9\n",
       "dtype: int64"
      ]
     },
     "execution_count": 20,
     "metadata": {},
     "output_type": "execute_result"
    }
   ],
   "source": [
    "low_price = df[(df[\"price\"] < 50)]\n",
    "low_price.count()"
   ]
  },
  {
   "attachments": {},
   "cell_type": "markdown",
   "id": "bc7a5363",
   "metadata": {},
   "source": [
    "ETL - Asigno columna rate y count por separado de rating"
   ]
  },
  {
   "cell_type": "code",
   "execution_count": null,
   "id": "98d9c293",
   "metadata": {},
   "outputs": [],
   "source": [
    "df = pd.concat([df.drop(['rating'], axis=1), df['rating'].apply(pd.Series)], axis=1)"
   ]
  },
  {
   "attachments": {},
   "cell_type": "markdown",
   "id": "562d40c4",
   "metadata": {},
   "source": [
    "ETL - Verifico si el producto esta en oferta y lo agrego al dataframe"
   ]
  },
  {
   "cell_type": "code",
   "execution_count": null,
   "id": "71247996",
   "metadata": {},
   "outputs": [],
   "source": [
    "df['status'] = ['On Sale' if x < 50 else '' for x in df['price']]\n",
    "df.head()"
   ]
  },
  {
   "attachments": {},
   "cell_type": "markdown",
   "id": "846c0b66",
   "metadata": {},
   "source": [
    "ETL - Agrego fecha de producto"
   ]
  },
  {
   "cell_type": "code",
   "execution_count": null,
   "id": "f4cf9dc8",
   "metadata": {},
   "outputs": [],
   "source": [
    "df[\"fecha\"] = date.today()\n",
    "df.head()"
   ]
  },
  {
   "attachments": {},
   "cell_type": "markdown",
   "id": "d7f07175",
   "metadata": {},
   "source": [
    "Test funcionamiento insercion de datos - Agrego registros con el mismo ID pero con diferente fecha para la creacion de los registros en el DW, persistiendo lo historico"
   ]
  },
  {
   "cell_type": "code",
   "execution_count": null,
   "id": "63e99dae",
   "metadata": {},
   "outputs": [],
   "source": [
    "manana = date.today() + timedelta(days=1) \n",
    "df.loc[len(df.index)] = [20, \"Producto nuevo 1 - Lente camara\", 500, \"Alguna description 1\", \"IT\", \"https://johnstillk8.scusd.edu/sites/main/files/main-images/camera_lense_0.jpeg\", 3.5, 9, \"On Sale\", manana]\n",
    "df.loc[len(df.index)] = [21, \"Producto nuevo 2 - Notebook\", 3000, \"Alguna description 2\", \"IT\", \"https://www.oberlo.com/media/1603969791-image-1.jpg?fit=max&fm=webp&w=1824\", 6, 25, \"On Sale\", manana]\n",
    "pasado = date.today() + timedelta(days=2) \n",
    "df.loc[len(df.index)] = [21, \"Producto nuevo editado 1 - Notebook\", 3500, \"Alguna description 2\", \"IT\", \"https://www.oberlo.com/media/1603969791-image-1.jpg?fit=max&fm=webp&w=1824\", 6, 25, \"On Sale\", pasado]\n",
    "df.tail()"
   ]
  },
  {
   "attachments": {},
   "cell_type": "markdown",
   "id": "7be5b4d5",
   "metadata": {},
   "source": [
    "ETL - Cantidad de productos por categoria"
   ]
  },
  {
   "cell_type": "code",
   "execution_count": null,
   "id": "9f67189a",
   "metadata": {},
   "outputs": [],
   "source": [
    "categories = df.groupby([\"category\"]).count()\n",
    "categories"
   ]
  },
  {
   "attachments": {},
   "cell_type": "markdown",
   "id": "92b9ac56",
   "metadata": {},
   "source": [
    "ETL - Top 10 productos"
   ]
  },
  {
   "cell_type": "code",
   "execution_count": null,
   "id": "e27ce023",
   "metadata": {},
   "outputs": [],
   "source": [
    "top_10_products = df.sort_values(\"rate\", ascending=False).head(10)\n",
    "top_10_products"
   ]
  },
  {
   "attachments": {},
   "cell_type": "markdown",
   "id": "393149eb",
   "metadata": {},
   "source": [
    "ETL - Elimino la descripcion antes de guardar en RedShift"
   ]
  },
  {
   "cell_type": "code",
   "execution_count": null,
   "id": "17268e8c",
   "metadata": {},
   "outputs": [],
   "source": [
    "df = df.drop(['description'], axis=1)\n",
    "df.head()"
   ]
  },
  {
   "attachments": {},
   "cell_type": "markdown",
   "id": "286b64ae",
   "metadata": {},
   "source": [
    "Se insertan los datos en el destino"
   ]
  },
  {
   "cell_type": "code",
   "execution_count": null,
   "id": "9136ac87",
   "metadata": {},
   "outputs": [],
   "source": [
    "# Connects to Redshift cluster using AWS credentials\n",
    "connection = create_engine(f'postgresql://{user}:{password}@{host}:{port}/{db}')\n",
    "with redshift_connector.connect(host=host,database=db,user=user,password=password) as conn:\n",
    "  with conn.cursor() as cursor:\n",
    "    conn.autocommit = True\n",
    "    cursor: redshift_connector.Cursor = conn.cursor()\n",
    "\n",
    "    # Creo tabla stage para dejar los nuevos registros hasta que haga el insert incremental en la tabla final\n",
    "    tabla_staging = f\"\"\"\n",
    "      CREATE TABLE IF NOT EXISTS products_staging (\n",
    "      id INTEGER,\n",
    "      title VARCHAR(128),\n",
    "      price FLOAT8,\n",
    "      category VARCHAR(256),\n",
    "      image TEXT,\n",
    "      rate FLOAT8,\n",
    "      count FLOAT8,\n",
    "      status VARCHAR(32),\n",
    "      fecha DATE\n",
    "      ) DISTKEY(id) SORTKEY(rate);\n",
    "    \"\"\"\n",
    "    truncate_table = \"TRUNCATE TABLE products_staging;\"\n",
    "    try:\n",
    "      cursor.execute(tabla_staging)\n",
    "      cursor.execute(truncate_table)\n",
    "      df.to_sql('products_staging', connection, index=False, if_exists='replace')\n",
    "      try:\n",
    "        tabla = f\"\"\"\n",
    "          CREATE TABLE IF NOT EXISTS products (\n",
    "          id INTEGER,\n",
    "          title VARCHAR(128),\n",
    "          price FLOAT8,\n",
    "          category VARCHAR(256),\n",
    "          image TEXT,\n",
    "          rate FLOAT8,\n",
    "          count FLOAT8,\n",
    "          status VARCHAR(32),\n",
    "          fecha DATE\n",
    "          ) DISTKEY(id) SORTKEY(rate);\n",
    "        \"\"\"\n",
    "        cursor.execute(tabla)\n",
    "\n",
    "        # Comparo identifico los registros nuevos en la tabla staging y los guardo en la tabla final\n",
    "        cursor.execute(\"begin transaction;\")\n",
    "        cursor.execute(f\"delete from products using products_staging where products.id = products_staging.id and products.fecha >= '{date.today()}'\")\n",
    "        cursor.execute(f\"insert into products select * from products_staging\")\n",
    "        cursor.execute(\"end transaction;\")\n",
    "        cursor.close()\n",
    "      except Exception as e:\n",
    "        cursor.close()\n",
    "        print(f\"Error al guardar los datos: {e}\") \n",
    "    except Exception as e:\n",
    "      print(f\"Error al guardar los datos: {e}\")"
   ]
  }
 ],
 "metadata": {
  "kernelspec": {
   "display_name": "Python 3 (ipykernel)",
   "language": "python",
   "name": "python3"
  },
  "language_info": {
   "codemirror_mode": {
    "name": "ipython",
    "version": 3
   },
   "file_extension": ".py",
   "mimetype": "text/x-python",
   "name": "python",
   "nbconvert_exporter": "python",
   "pygments_lexer": "ipython3",
   "version": "3.11.1"
  }
 },
 "nbformat": 4,
 "nbformat_minor": 5
}
