{
 "cells": [
  {
   "attachments": {},
   "cell_type": "markdown",
   "id": "e63cf067-786b-4628-a894-2bea05ba45e2",
   "metadata": {},
   "source": [
    "## CoderHouse - Data Engineering - Kevin Schiebelbein - Entregable 1"
   ]
  },
  {
   "attachments": {},
   "cell_type": "markdown",
   "id": "5420bf36",
   "metadata": {},
   "source": [
    "> Antes de ejecutar el codigo se necesita instalar las dependencias con ` pip3 install -r requeriments.txt ` en la carpeta raiz del Notebook"
   ]
  },
  {
   "attachments": {},
   "cell_type": "markdown",
   "id": "4152c12d",
   "metadata": {},
   "source": [
    "Se importan las librearias necesarias"
   ]
  },
  {
   "cell_type": "code",
   "execution_count": 34,
   "id": "10575746-fe8c-4059-bef4-8a74543cd4f2",
   "metadata": {},
   "outputs": [],
   "source": [
    "from utils import getFakeData\n",
    "from dotenv import dotenv_values\n",
    "import redshift_connector\n",
    "import json"
   ]
  },
  {
   "attachments": {},
   "cell_type": "markdown",
   "id": "14d405ff",
   "metadata": {},
   "source": [
    "Se define la configuracion para la consulta al Data Warehouse"
   ]
  },
  {
   "cell_type": "code",
   "execution_count": 35,
   "id": "d4a9115b",
   "metadata": {},
   "outputs": [],
   "source": [
    "config = dotenv_values(\".env\")\n",
    "driver = \"Amazon Redshift (x64)\"\n",
    "host = \"coderhousede.c9baaa4ijdny.us-east-2.redshift.amazonaws.com\"\n",
    "db = \"dev\"\n",
    "user = \"kschiebelbein\"\n",
    "password = config[\"PASSDW\"]"
   ]
  },
  {
   "attachments": {},
   "cell_type": "markdown",
   "id": "4a341d80",
   "metadata": {},
   "source": [
    "Se extraen los datos de la API publica y se organizan los datos para la insercion"
   ]
  },
  {
   "cell_type": "code",
   "execution_count": 36,
   "id": "b80020a0",
   "metadata": {},
   "outputs": [],
   "source": [
    "api = \"https://fakestoreapi.com/products\"\n",
    "result = getFakeData(api)\n",
    "products = json.loads(result.text)\n",
    "values = [tuple((p[\"id\"], p[\"title\"], p[\"price\"], p[\"category\"], p[\"image\"], p[\"rating\"][\"rate\"])) for p in products]"
   ]
  },
  {
   "attachments": {},
   "cell_type": "markdown",
   "id": "286b64ae",
   "metadata": {},
   "source": [
    "Se insertan los datos en el destino"
   ]
  },
  {
   "cell_type": "code",
   "execution_count": 37,
   "id": "9136ac87",
   "metadata": {},
   "outputs": [],
   "source": [
    "# Connects to Redshift cluster using AWS credentials\n",
    "with redshift_connector.connect(host=host,database=db,user=user,password=password) as conn:\n",
    "    with conn.cursor() as cursor:\n",
    "      conn.autocommit = True\n",
    "      cursor: redshift_connector.Cursor = conn.cursor()\n",
    "      tabla = f\"\"\"\n",
    "        CREATE TABLE IF NOT EXISTS public.products (\n",
    "        id INTEGER,\n",
    "        title VARCHAR(128),\n",
    "        price FLOAT8,\n",
    "        category VARCHAR(256),\n",
    "        image TEXT,\n",
    "        rate FLOAT8\n",
    "        ) DISTKEY(id) SORTKEY(rate);\n",
    "      \"\"\"\n",
    "      cursor.execute(tabla)\n",
    "      try:\n",
    "        cursor.executemany(\"insert into products (id, title, price, category, image, rate) values (%s, %s, %s, %s, %s, %s)\", values)\n",
    "      except Exception as e:\n",
    "        print(f\"Error al guardar los datos: {e}\")"
   ]
  }
 ],
 "metadata": {
  "kernelspec": {
   "display_name": "Python 3 (ipykernel)",
   "language": "python",
   "name": "python3"
  },
  "language_info": {
   "codemirror_mode": {
    "name": "ipython",
    "version": 3
   },
   "file_extension": ".py",
   "mimetype": "text/x-python",
   "name": "python",
   "nbconvert_exporter": "python",
   "pygments_lexer": "ipython3",
   "version": "3.11.1"
  }
 },
 "nbformat": 4,
 "nbformat_minor": 5
}
